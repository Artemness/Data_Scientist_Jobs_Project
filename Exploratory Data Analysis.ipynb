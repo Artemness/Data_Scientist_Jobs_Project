{
 "cells": [
  {
   "cell_type": "code",
   "execution_count": 53,
   "metadata": {
    "collapsed": true
   },
   "outputs": [],
   "source": [
    "import pandas as pd\n",
    "import seaborn as sns\n",
    "import matplotlib.pyplot as plt"
   ]
  },
  {
   "cell_type": "code",
   "execution_count": 54,
   "outputs": [],
   "source": [
    "pd.set_option('display.max_rows', 1000)\n",
    "df = pd.read_excel('CleanedData.xlsx')"
   ],
   "metadata": {
    "collapsed": false,
    "pycharm": {
     "name": "#%%\n"
    }
   }
  },
  {
   "cell_type": "code",
   "execution_count": 55,
   "outputs": [
    {
     "data": {
      "text/plain": "Index(['Job Title', 'Salary Estimate', 'Job Description', 'Rating',\n       'Company Name', 'Location', 'Headquarters', 'Size', 'Founded',\n       'Type of ownership', 'Industry', 'Sector', 'Revenue', 'Competitors',\n       'CompanyName', 'hourly', 'employer_provided', 'min_salary',\n       'max_salary', 'avg_salary', 'State', 'agecompany', 'python', 'R',\n       'Excel', 'Senior'],\n      dtype='object')"
     },
     "execution_count": 55,
     "metadata": {},
     "output_type": "execute_result"
    }
   ],
   "source": [
    "df.head()\n",
    "df.columns"
   ],
   "metadata": {
    "collapsed": false,
    "pycharm": {
     "name": "#%%\n"
    }
   }
  },
  {
   "cell_type": "code",
   "execution_count": 56,
   "outputs": [
    {
     "data": {
      "text/plain": "            Job Title                Salary Estimate  \\\n0      Data Scientist  $111K-$143K\\n(Glassdoor est.)   \n1        Data Analyst    $50K-$63K\\n(Glassdoor est.)   \n2        Data Analyst    $41K-$78K\\n(Glassdoor est.)   \n3  Research Scientist    $42K-$92K\\n(Glassdoor est.)   \n4      Data Analyst I    $24K-$48K\\n(Glassdoor est.)   \n\n                                     Job Description  Rating  \\\n0  Responsibilities:\\nBring Creativity to Data pr...     3.8   \n1  Description\\nInterpret data, analyze results u...     4.2   \n2  Undertone stands alone among AdTech and ad net...     3.8   \n3  Job Details\\nJob Title\\nResearch Scientist\\n\\n...     3.9   \n4  The Data Analyst is responsible for data entry...     4.1   \n\n                                        Company Name            Location  \\\n0                                     BlackLine\\n3.8  Woodland Hills, CA   \n1                                        Gensco\\n4.2          Tacoma, WA   \n2                                     Undertone\\n3.8        New York, NY   \n3  The Ohio State University Wexner Medical Cente...        Columbus, OH   \n4                     Insight Enterprises, Inc.\\n4.1           Plano, TX   \n\n         Headquarters                     Size  Founded  \\\n0  Woodland Hills, CA    501 to 1000 employees     2001   \n1          Tacoma, WA    501 to 1000 employees     1948   \n2        New York, NY     201 to 500 employees     2001   \n3        Columbus, OH         10000+ employees     1916   \n4           Tempe, AZ  5001 to 10000 employees     1988   \n\n                Type of ownership  ... employer_provided min_salary  \\\n0                Company - Public  ...                 0        111   \n1               Company - Private  ...                 0         50   \n2  Subsidiary or Business Segment  ...                 0         41   \n3                        Hospital  ...                 0         42   \n4                Company - Public  ...                 0         24   \n\n  max_salary avg_salary State  agecompany  python  R  Excel  Senior  \n0        143      127.0    CA          19       1  0      0       0  \n1         63       56.5    WA          72       0  0      1       0  \n2         78       59.5    NY          19       0  0      0       0  \n3         92       67.0    OH         104       0  0      0       0  \n4         48       36.0    TX          32       0  0      1       0  \n\n[5 rows x 26 columns]",
      "text/html": "<div>\n<style scoped>\n    .dataframe tbody tr th:only-of-type {\n        vertical-align: middle;\n    }\n\n    .dataframe tbody tr th {\n        vertical-align: top;\n    }\n\n    .dataframe thead th {\n        text-align: right;\n    }\n</style>\n<table border=\"1\" class=\"dataframe\">\n  <thead>\n    <tr style=\"text-align: right;\">\n      <th></th>\n      <th>Job Title</th>\n      <th>Salary Estimate</th>\n      <th>Job Description</th>\n      <th>Rating</th>\n      <th>Company Name</th>\n      <th>Location</th>\n      <th>Headquarters</th>\n      <th>Size</th>\n      <th>Founded</th>\n      <th>Type of ownership</th>\n      <th>...</th>\n      <th>employer_provided</th>\n      <th>min_salary</th>\n      <th>max_salary</th>\n      <th>avg_salary</th>\n      <th>State</th>\n      <th>agecompany</th>\n      <th>python</th>\n      <th>R</th>\n      <th>Excel</th>\n      <th>Senior</th>\n    </tr>\n  </thead>\n  <tbody>\n    <tr>\n      <th>0</th>\n      <td>Data Scientist</td>\n      <td>$111K-$143K\\n(Glassdoor est.)</td>\n      <td>Responsibilities:\\nBring Creativity to Data pr...</td>\n      <td>3.8</td>\n      <td>BlackLine\\n3.8</td>\n      <td>Woodland Hills, CA</td>\n      <td>Woodland Hills, CA</td>\n      <td>501 to 1000 employees</td>\n      <td>2001</td>\n      <td>Company - Public</td>\n      <td>...</td>\n      <td>0</td>\n      <td>111</td>\n      <td>143</td>\n      <td>127.0</td>\n      <td>CA</td>\n      <td>19</td>\n      <td>1</td>\n      <td>0</td>\n      <td>0</td>\n      <td>0</td>\n    </tr>\n    <tr>\n      <th>1</th>\n      <td>Data Analyst</td>\n      <td>$50K-$63K\\n(Glassdoor est.)</td>\n      <td>Description\\nInterpret data, analyze results u...</td>\n      <td>4.2</td>\n      <td>Gensco\\n4.2</td>\n      <td>Tacoma, WA</td>\n      <td>Tacoma, WA</td>\n      <td>501 to 1000 employees</td>\n      <td>1948</td>\n      <td>Company - Private</td>\n      <td>...</td>\n      <td>0</td>\n      <td>50</td>\n      <td>63</td>\n      <td>56.5</td>\n      <td>WA</td>\n      <td>72</td>\n      <td>0</td>\n      <td>0</td>\n      <td>1</td>\n      <td>0</td>\n    </tr>\n    <tr>\n      <th>2</th>\n      <td>Data Analyst</td>\n      <td>$41K-$78K\\n(Glassdoor est.)</td>\n      <td>Undertone stands alone among AdTech and ad net...</td>\n      <td>3.8</td>\n      <td>Undertone\\n3.8</td>\n      <td>New York, NY</td>\n      <td>New York, NY</td>\n      <td>201 to 500 employees</td>\n      <td>2001</td>\n      <td>Subsidiary or Business Segment</td>\n      <td>...</td>\n      <td>0</td>\n      <td>41</td>\n      <td>78</td>\n      <td>59.5</td>\n      <td>NY</td>\n      <td>19</td>\n      <td>0</td>\n      <td>0</td>\n      <td>0</td>\n      <td>0</td>\n    </tr>\n    <tr>\n      <th>3</th>\n      <td>Research Scientist</td>\n      <td>$42K-$92K\\n(Glassdoor est.)</td>\n      <td>Job Details\\nJob Title\\nResearch Scientist\\n\\n...</td>\n      <td>3.9</td>\n      <td>The Ohio State University Wexner Medical Cente...</td>\n      <td>Columbus, OH</td>\n      <td>Columbus, OH</td>\n      <td>10000+ employees</td>\n      <td>1916</td>\n      <td>Hospital</td>\n      <td>...</td>\n      <td>0</td>\n      <td>42</td>\n      <td>92</td>\n      <td>67.0</td>\n      <td>OH</td>\n      <td>104</td>\n      <td>0</td>\n      <td>0</td>\n      <td>0</td>\n      <td>0</td>\n    </tr>\n    <tr>\n      <th>4</th>\n      <td>Data Analyst I</td>\n      <td>$24K-$48K\\n(Glassdoor est.)</td>\n      <td>The Data Analyst is responsible for data entry...</td>\n      <td>4.1</td>\n      <td>Insight Enterprises, Inc.\\n4.1</td>\n      <td>Plano, TX</td>\n      <td>Tempe, AZ</td>\n      <td>5001 to 10000 employees</td>\n      <td>1988</td>\n      <td>Company - Public</td>\n      <td>...</td>\n      <td>0</td>\n      <td>24</td>\n      <td>48</td>\n      <td>36.0</td>\n      <td>TX</td>\n      <td>32</td>\n      <td>0</td>\n      <td>0</td>\n      <td>1</td>\n      <td>0</td>\n    </tr>\n  </tbody>\n</table>\n<p>5 rows × 26 columns</p>\n</div>"
     },
     "execution_count": 56,
     "metadata": {},
     "output_type": "execute_result"
    }
   ],
   "source": [
    "df.head()"
   ],
   "metadata": {
    "collapsed": false,
    "pycharm": {
     "name": "#%%\n"
    }
   }
  },
  {
   "cell_type": "code",
   "execution_count": 57,
   "outputs": [],
   "source": [
    "def simpler_title(title):\n",
    "    if 'data scientist' in title.lower():\n",
    "        return 'Data Scientist'\n",
    "\n",
    "    elif 'data engineer' in title.lower():\n",
    "        return 'Data Engineer'\n",
    "\n",
    "    elif 'analyst' in title.lower():\n",
    "        return 'Analyst'\n",
    "\n",
    "    elif 'research scientist' in title.lower():\n",
    "        return 'Research Scientist'\n",
    "\n",
    "    elif 'machine learning' in title.lower():\n",
    "        return 'Machine Learning Engineer'\n",
    "\n",
    "    elif 'manager' in title.lower():\n",
    "        return 'Manager'\n",
    "\n",
    "    elif 'director' in title.lower():\n",
    "        return 'Director'\n",
    "\n",
    "    else:\n",
    "        return 'na'\n"
   ],
   "metadata": {
    "collapsed": false,
    "pycharm": {
     "name": "#%%\n"
    }
   }
  },
  {
   "cell_type": "code",
   "execution_count": 58,
   "outputs": [],
   "source": [
    "def junior(title):\n",
    "    if 'jr' in title.lower() or 'jr.' in title.lower():\n",
    "        return '1'\n",
    "    else:\n",
    "        return '0'"
   ],
   "metadata": {
    "collapsed": false,
    "pycharm": {
     "name": "#%%\n"
    }
   }
  },
  {
   "cell_type": "code",
   "execution_count": 59,
   "outputs": [],
   "source": [
    "df['SimpJob'] = df['Job Title'].apply(simpler_title)\n"
   ],
   "metadata": {
    "collapsed": false,
    "pycharm": {
     "name": "#%%\n"
    }
   }
  },
  {
   "cell_type": "code",
   "execution_count": 60,
   "outputs": [
    {
     "data": {
      "text/plain": "Data Scientist               318\nData Engineer                149\nna                           145\nAnalyst                       86\nManager                       24\nMachine Learning Engineer     18\nResearch Scientist            15\nDirector                      13\nName: SimpJob, dtype: int64"
     },
     "execution_count": 60,
     "metadata": {},
     "output_type": "execute_result"
    }
   ],
   "source": [
    "df['SimpJob'].value_counts()"
   ],
   "metadata": {
    "collapsed": false,
    "pycharm": {
     "name": "#%%\n"
    }
   }
  },
  {
   "cell_type": "code",
   "execution_count": 61,
   "outputs": [],
   "source": [
    "df['Junior'] = df['Job Title'].apply(junior)"
   ],
   "metadata": {
    "collapsed": false,
    "pycharm": {
     "name": "#%%\n"
    }
   }
  },
  {
   "cell_type": "code",
   "execution_count": 62,
   "outputs": [
    {
     "data": {
      "text/plain": "0    768\nName: Junior, dtype: int64"
     },
     "execution_count": 62,
     "metadata": {},
     "output_type": "execute_result"
    }
   ],
   "source": [
    "df['Junior'].value_counts()"
   ],
   "metadata": {
    "collapsed": false,
    "pycharm": {
     "name": "#%%\n"
    }
   }
  },
  {
   "cell_type": "code",
   "execution_count": 63,
   "outputs": [
    {
     "data": {
      "text/plain": " CA             177\n MA              86\n VA              76\n NY              66\n TX              41\n WI              26\n MD              26\n OH              25\n IL              24\n FL              22\n NC              20\n AZ              18\n WA              17\n CO              15\n PA              13\n MO              12\n MI              12\n UT              12\n MN              11\n TN              11\n SC              11\n DC               9\n NJ               7\n AL               5\n IN               5\n NE               3\n NM               2\n IA               2\n OR               2\n GA               2\n MS               2\n RI               2\n HI               2\n OK               1\n NH               1\n Los Angeles      1\n WV               1\nName: State, dtype: int64"
     },
     "execution_count": 63,
     "metadata": {},
     "output_type": "execute_result"
    }
   ],
   "source": [
    "df['State'].value_counts()\n",
    "#Los Angeles as a state: - Fixing:"
   ],
   "metadata": {
    "collapsed": false,
    "pycharm": {
     "name": "#%%\n"
    }
   }
  },
  {
   "cell_type": "code",
   "execution_count": 64,
   "outputs": [
    {
     "data": {
      "text/plain": "CA    178\nMA     86\nVA     76\nNY     66\nTX     41\nMD     26\nWI     26\nOH     25\nIL     24\nFL     22\nNC     20\nAZ     18\nWA     17\nCO     15\nPA     13\nUT     12\nMI     12\nMO     12\nMN     11\nTN     11\nSC     11\nDC      9\nNJ      7\nAL      5\nIN      5\nNE      3\nMS      2\nGA      2\nIA      2\nOR      2\nHI      2\nNM      2\nRI      2\nOK      1\nNH      1\nWV      1\nName: State, dtype: int64"
     },
     "execution_count": 64,
     "metadata": {},
     "output_type": "execute_result"
    }
   ],
   "source": [
    "#Los Angeles as a state: - Fixing:\n",
    "df['State'] = df['State'].apply(lambda x: x.strip() if x.strip().lower() != 'los angeles' else 'CA')\n",
    "df['State'].value_counts()"
   ],
   "metadata": {
    "collapsed": false,
    "pycharm": {
     "name": "#%%\n"
    }
   }
  },
  {
   "cell_type": "code",
   "execution_count": 65,
   "outputs": [],
   "source": [
    "#Number of Competitors:\n",
    "df['NumberComp'] = df['Competitors'].apply(lambda x: len(x.split(',')) if x != -1 else 0)"
   ],
   "metadata": {
    "collapsed": false,
    "pycharm": {
     "name": "#%%\n"
    }
   }
  },
  {
   "cell_type": "code",
   "execution_count": 66,
   "outputs": [
    {
     "data": {
      "text/plain": "           Rating      Founded      hourly  employer_provided  min_salary  \\\ncount  768.000000   768.000000  768.000000         768.000000  768.000000   \nmean     3.752734  1872.104167    0.029948           0.002604   79.401042   \nstd      0.707378   447.135230    0.170555           0.050998   29.538618   \nmin     -1.000000    -1.000000    0.000000           0.000000   13.000000   \n25%      3.400000  1952.000000    0.000000           0.000000   58.000000   \n50%      3.800000  1995.000000    0.000000           0.000000   79.000000   \n75%      4.200000  2007.000000    0.000000           0.000000   95.000000   \nmax      5.000000  2019.000000    1.000000           1.000000  212.000000   \n\n       max_salary  avg_salary  agecompany      python           R       Excel  \\\ncount  768.000000  768.000000  768.000000  768.000000  768.000000  768.000000   \nmean   126.226562  102.813802   39.950521    0.654948    0.003906    0.490885   \nstd     43.240460   35.451785   43.585133    0.475695    0.062418    0.500243   \nmin     24.000000   18.500000   -1.000000    0.000000    0.000000    0.000000   \n25%     98.750000   79.875000   11.000000    0.000000    0.000000    0.000000   \n50%    124.000000  101.000000   22.000000    1.000000    0.000000    0.000000   \n75%    151.000000  122.625000   55.250000    1.000000    0.000000    1.000000   \nmax    331.000000  271.500000  239.000000    1.000000    1.000000    1.000000   \n\n           Senior  NumberComp  \ncount  768.000000  768.000000  \nmean     0.248698    0.957031  \nstd      0.432540    1.346966  \nmin      0.000000    0.000000  \n25%      0.000000    0.000000  \n50%      0.000000    0.000000  \n75%      0.000000    3.000000  \nmax      1.000000    3.000000  ",
      "text/html": "<div>\n<style scoped>\n    .dataframe tbody tr th:only-of-type {\n        vertical-align: middle;\n    }\n\n    .dataframe tbody tr th {\n        vertical-align: top;\n    }\n\n    .dataframe thead th {\n        text-align: right;\n    }\n</style>\n<table border=\"1\" class=\"dataframe\">\n  <thead>\n    <tr style=\"text-align: right;\">\n      <th></th>\n      <th>Rating</th>\n      <th>Founded</th>\n      <th>hourly</th>\n      <th>employer_provided</th>\n      <th>min_salary</th>\n      <th>max_salary</th>\n      <th>avg_salary</th>\n      <th>agecompany</th>\n      <th>python</th>\n      <th>R</th>\n      <th>Excel</th>\n      <th>Senior</th>\n      <th>NumberComp</th>\n    </tr>\n  </thead>\n  <tbody>\n    <tr>\n      <th>count</th>\n      <td>768.000000</td>\n      <td>768.000000</td>\n      <td>768.000000</td>\n      <td>768.000000</td>\n      <td>768.000000</td>\n      <td>768.000000</td>\n      <td>768.000000</td>\n      <td>768.000000</td>\n      <td>768.000000</td>\n      <td>768.000000</td>\n      <td>768.000000</td>\n      <td>768.000000</td>\n      <td>768.000000</td>\n    </tr>\n    <tr>\n      <th>mean</th>\n      <td>3.752734</td>\n      <td>1872.104167</td>\n      <td>0.029948</td>\n      <td>0.002604</td>\n      <td>79.401042</td>\n      <td>126.226562</td>\n      <td>102.813802</td>\n      <td>39.950521</td>\n      <td>0.654948</td>\n      <td>0.003906</td>\n      <td>0.490885</td>\n      <td>0.248698</td>\n      <td>0.957031</td>\n    </tr>\n    <tr>\n      <th>std</th>\n      <td>0.707378</td>\n      <td>447.135230</td>\n      <td>0.170555</td>\n      <td>0.050998</td>\n      <td>29.538618</td>\n      <td>43.240460</td>\n      <td>35.451785</td>\n      <td>43.585133</td>\n      <td>0.475695</td>\n      <td>0.062418</td>\n      <td>0.500243</td>\n      <td>0.432540</td>\n      <td>1.346966</td>\n    </tr>\n    <tr>\n      <th>min</th>\n      <td>-1.000000</td>\n      <td>-1.000000</td>\n      <td>0.000000</td>\n      <td>0.000000</td>\n      <td>13.000000</td>\n      <td>24.000000</td>\n      <td>18.500000</td>\n      <td>-1.000000</td>\n      <td>0.000000</td>\n      <td>0.000000</td>\n      <td>0.000000</td>\n      <td>0.000000</td>\n      <td>0.000000</td>\n    </tr>\n    <tr>\n      <th>25%</th>\n      <td>3.400000</td>\n      <td>1952.000000</td>\n      <td>0.000000</td>\n      <td>0.000000</td>\n      <td>58.000000</td>\n      <td>98.750000</td>\n      <td>79.875000</td>\n      <td>11.000000</td>\n      <td>0.000000</td>\n      <td>0.000000</td>\n      <td>0.000000</td>\n      <td>0.000000</td>\n      <td>0.000000</td>\n    </tr>\n    <tr>\n      <th>50%</th>\n      <td>3.800000</td>\n      <td>1995.000000</td>\n      <td>0.000000</td>\n      <td>0.000000</td>\n      <td>79.000000</td>\n      <td>124.000000</td>\n      <td>101.000000</td>\n      <td>22.000000</td>\n      <td>1.000000</td>\n      <td>0.000000</td>\n      <td>0.000000</td>\n      <td>0.000000</td>\n      <td>0.000000</td>\n    </tr>\n    <tr>\n      <th>75%</th>\n      <td>4.200000</td>\n      <td>2007.000000</td>\n      <td>0.000000</td>\n      <td>0.000000</td>\n      <td>95.000000</td>\n      <td>151.000000</td>\n      <td>122.625000</td>\n      <td>55.250000</td>\n      <td>1.000000</td>\n      <td>0.000000</td>\n      <td>1.000000</td>\n      <td>0.000000</td>\n      <td>3.000000</td>\n    </tr>\n    <tr>\n      <th>max</th>\n      <td>5.000000</td>\n      <td>2019.000000</td>\n      <td>1.000000</td>\n      <td>1.000000</td>\n      <td>212.000000</td>\n      <td>331.000000</td>\n      <td>271.500000</td>\n      <td>239.000000</td>\n      <td>1.000000</td>\n      <td>1.000000</td>\n      <td>1.000000</td>\n      <td>1.000000</td>\n      <td>3.000000</td>\n    </tr>\n  </tbody>\n</table>\n</div>"
     },
     "execution_count": 66,
     "metadata": {},
     "output_type": "execute_result"
    }
   ],
   "source": [
    "df.describe()"
   ],
   "metadata": {
    "collapsed": false,
    "pycharm": {
     "name": "#%%\n"
    }
   }
  },
  {
   "cell_type": "code",
   "execution_count": 67,
   "outputs": [
    {
     "data": {
      "text/plain": "<matplotlib.axes._subplots.AxesSubplot at 0x7fe7a06e7090>"
     },
     "execution_count": 67,
     "metadata": {},
     "output_type": "execute_result"
    },
    {
     "data": {
      "text/plain": "<Figure size 432x288 with 1 Axes>",
      "image/png": "[encoded data removed]"
     },
     "metadata": {
      "needs_background": "light"
     },
     "output_type": "display_data"
    }
   ],
   "source": [
    "df['Rating'].hist()"
   ],
   "metadata": {
    "collapsed": false,
    "pycharm": {
     "name": "#%%\n"
    }
   }
  },
  {
   "cell_type": "code",
   "execution_count": 68,
   "outputs": [
    {
     "data": {
      "text/plain": "<matplotlib.axes._subplots.AxesSubplot at 0x7fe7a06207d0>"
     },
     "execution_count": 68,
     "metadata": {},
     "output_type": "execute_result"
    },
    {
     "data": {
      "text/plain": "<Figure size 432x288 with 1 Axes>",
      "image/png": "[encoded data removed]"
     },
     "metadata": {
      "needs_background": "light"
     },
     "output_type": "display_data"
    }
   ],
   "source": [
    "df['avg_salary'].hist()"
   ],
   "metadata": {
    "collapsed": false,
    "pycharm": {
     "name": "#%%\n"
    }
   }
  },
  {
   "cell_type": "code",
   "execution_count": 69,
   "outputs": [
    {
     "data": {
      "text/plain": "<matplotlib.axes._subplots.AxesSubplot at 0x7fe7a0587890>"
     },
     "execution_count": 69,
     "metadata": {},
     "output_type": "execute_result"
    },
    {
     "data": {
      "text/plain": "<Figure size 432x288 with 1 Axes>",
      "image/png": "[encoded data removed]"
     },
     "metadata": {
      "needs_background": "light"
     },
     "output_type": "display_data"
    }
   ],
   "source": [
    "df['agecompany'].hist()"
   ],
   "metadata": {
    "collapsed": false,
    "pycharm": {
     "name": "#%%\n"
    }
   }
  },
  {
   "cell_type": "code",
   "execution_count": 70,
   "outputs": [
    {
     "data": {
      "text/plain": "<matplotlib.axes._subplots.AxesSubplot at 0x7fe7a0512550>"
     },
     "execution_count": 70,
     "metadata": {},
     "output_type": "execute_result"
    },
    {
     "data": {
      "text/plain": "<Figure size 432x288 with 1 Axes>",
      "image/png": "[encoded data removed]"
     },
     "metadata": {
      "needs_background": "light"
     },
     "output_type": "display_data"
    }
   ],
   "source": [
    "df.boxplot(column= ['agecompany', 'avg_salary'])"
   ],
   "metadata": {
    "collapsed": false,
    "pycharm": {
     "name": "#%%\n"
    }
   }
  },
  {
   "cell_type": "code",
   "execution_count": 71,
   "outputs": [
    {
     "data": {
      "text/plain": "<matplotlib.axes._subplots.AxesSubplot at 0x7fe7a0470c50>"
     },
     "execution_count": 71,
     "metadata": {},
     "output_type": "execute_result"
    },
    {
     "data": {
      "text/plain": "<Figure size 432x288 with 1 Axes>",
      "image/png": "[encoded data removed]"
     },
     "metadata": {
      "needs_background": "light"
     },
     "output_type": "display_data"
    }
   ],
   "source": [
    "df.boxplot(column= ['Rating'])\n"
   ],
   "metadata": {
    "collapsed": false,
    "pycharm": {
     "name": "#%%\n"
    }
   }
  },
  {
   "cell_type": "code",
   "execution_count": 72,
   "outputs": [
    {
     "data": {
      "text/plain": "            agecompany    Rating  avg_salary  NumberComp\nagecompany    1.000000 -0.095122   -0.085544    0.155020\nRating       -0.095122  1.000000    0.002568    0.020033\navg_salary   -0.085544  0.002568    1.000000    0.073605\nNumberComp    0.155020  0.020033    0.073605    1.000000",
      "text/html": "<div>\n<style scoped>\n    .dataframe tbody tr th:only-of-type {\n        vertical-align: middle;\n    }\n\n    .dataframe tbody tr th {\n        vertical-align: top;\n    }\n\n    .dataframe thead th {\n        text-align: right;\n    }\n</style>\n<table border=\"1\" class=\"dataframe\">\n  <thead>\n    <tr style=\"text-align: right;\">\n      <th></th>\n      <th>agecompany</th>\n      <th>Rating</th>\n      <th>avg_salary</th>\n      <th>NumberComp</th>\n    </tr>\n  </thead>\n  <tbody>\n    <tr>\n      <th>agecompany</th>\n      <td>1.000000</td>\n      <td>-0.095122</td>\n      <td>-0.085544</td>\n      <td>0.155020</td>\n    </tr>\n    <tr>\n      <th>Rating</th>\n      <td>-0.095122</td>\n      <td>1.000000</td>\n      <td>0.002568</td>\n      <td>0.020033</td>\n    </tr>\n    <tr>\n      <th>avg_salary</th>\n      <td>-0.085544</td>\n      <td>0.002568</td>\n      <td>1.000000</td>\n      <td>0.073605</td>\n    </tr>\n    <tr>\n      <th>NumberComp</th>\n      <td>0.155020</td>\n      <td>0.020033</td>\n      <td>0.073605</td>\n      <td>1.000000</td>\n    </tr>\n  </tbody>\n</table>\n</div>"
     },
     "execution_count": 72,
     "metadata": {},
     "output_type": "execute_result"
    }
   ],
   "source": [
    "df[['agecompany','Rating','avg_salary', 'NumberComp']].corr()"
   ],
   "metadata": {
    "collapsed": false,
    "pycharm": {
     "name": "#%%\n"
    }
   }
  },
  {
   "cell_type": "code",
   "execution_count": 73,
   "outputs": [
    {
     "data": {
      "text/plain": "<Figure size 432x288 with 2 Axes>",
      "image/png": "[encoded data removed]"
     },
     "metadata": {
      "needs_background": "light"
     },
     "output_type": "display_data"
    }
   ],
   "source": [
    "cmap = sns.diverging_palette(220, 10, as_cmap=True)\n",
    "heatmap = sns.heatmap(df[['agecompany','Rating','avg_salary', 'NumberComp']].corr(), vmax=.3, center=0, cmap=cmap, square=True, linewidth=0.5, cbar_kws={'shrink':.5})\n",
    "fig = heatmap.get_figure()\n",
    "fig.savefig('heatmap.png')"
   ],
   "metadata": {
    "collapsed": false,
    "pycharm": {
     "name": "#%%\n"
    }
   }
  },
  {
   "cell_type": "code",
   "execution_count": 74,
   "outputs": [
    {
     "data": {
      "text/plain": "Index(['Job Title', 'Salary Estimate', 'Job Description', 'Rating',\n       'Company Name', 'Location', 'Headquarters', 'Size', 'Founded',\n       'Type of ownership', 'Industry', 'Sector', 'Revenue', 'Competitors',\n       'CompanyName', 'hourly', 'employer_provided', 'min_salary',\n       'max_salary', 'avg_salary', 'State', 'agecompany', 'python', 'R',\n       'Excel', 'Senior', 'SimpJob', 'Junior', 'NumberComp'],\n      dtype='object')"
     },
     "execution_count": 74,
     "metadata": {},
     "output_type": "execute_result"
    }
   ],
   "source": [
    "df.columns"
   ],
   "metadata": {
    "collapsed": false,
    "pycharm": {
     "name": "#%%\n"
    }
   }
  },
  {
   "cell_type": "code",
   "execution_count": 75,
   "outputs": [],
   "source": [
    "\n",
    "df_cat = df[['Location', 'Headquarters', 'Size','Type of ownership', 'Industry', 'Sector', 'Revenue', 'State', 'CompanyName', 'python', 'R',\n",
    "       'Excel','Senior', 'SimpJob', 'Junior']]"
   ],
   "metadata": {
    "collapsed": false,
    "pycharm": {
     "name": "#%%\n"
    }
   }
  },
  {
   "cell_type": "code",
   "execution_count": 76,
   "outputs": [
    {
     "name": "stdout",
     "output_type": "stream",
     "text": [
      "Graph for Location: Total-20\n",
      "Graph for State: Total-20\n",
      "Graph for CompanyName: Total-20\n"
     ]
    },
    {
     "data": {
      "text/plain": "<Figure size 432x288 with 1 Axes>",
      "image/png": "[encoded data removed]"
     },
     "metadata": {
      "needs_background": "light"
     },
     "output_type": "display_data"
    },
    {
     "data": {
      "text/plain": "<Figure size 432x288 with 1 Axes>",
      "image/png": "[encoded data removed]"
     },
     "metadata": {
      "needs_background": "light"
     },
     "output_type": "display_data"
    },
    {
     "data": {
      "text/plain": "<Figure size 432x288 with 1 Axes>",
      "image/png": "[encoded data removed]"
     },
     "metadata": {
      "needs_background": "light"
     },
     "output_type": "display_data"
    }
   ],
   "source": [
    "for i in df_cat[['Location', 'State','CompanyName']].columns:\n",
    "    cat_num = df_cat[i].value_counts()[:20]\n",
    "    print('Graph for %s: Total-%d' %(i, len(cat_num)))\n",
    "    chart = sns.barplot(x=cat_num.index, y=cat_num)\n",
    "    chart.set_xticklabels(chart.get_xticklabels(), rotation=90)\n",
    "    chart.spines['left'].set_color('orange')\n",
    "    plt.show()"
   ],
   "metadata": {
    "collapsed": false,
    "pycharm": {
     "name": "#%%\n"
    }
   }
  },
  {
   "cell_type": "code",
   "execution_count": 77,
   "outputs": [
    {
     "data": {
      "text/plain": "Index(['Job Title', 'Salary Estimate', 'Job Description', 'Rating',\n       'Company Name', 'Location', 'Headquarters', 'Size', 'Founded',\n       'Type of ownership', 'Industry', 'Sector', 'Revenue', 'Competitors',\n       'CompanyName', 'hourly', 'employer_provided', 'min_salary',\n       'max_salary', 'avg_salary', 'State', 'agecompany', 'python', 'R',\n       'Excel', 'Senior', 'SimpJob', 'Junior', 'NumberComp'],\n      dtype='object')"
     },
     "execution_count": 77,
     "metadata": {},
     "output_type": "execute_result"
    }
   ],
   "source": [
    "df.columns"
   ],
   "metadata": {
    "collapsed": false,
    "pycharm": {
     "name": "#%%\n"
    }
   }
  },
  {
   "cell_type": "code",
   "execution_count": 85,
   "outputs": [
    {
     "data": {
      "text/plain": "                                  avg_salary\nSimpJob                   Senior            \nAnalyst                   0        59.364407\n                          1        92.444444\nData Engineer             0        99.269608\n                          1       120.457447\nData Scientist            0       109.163306\n                          1       139.050000\nDirector                  0       115.833333\n                          1       118.500000\nMachine Learning Engineer 0       117.357143\n                          1       120.250000\nManager                   0       110.366667\n                          1       110.833333\nResearch Scientist        0       108.800000\nna                        0        81.100000\n                          1       103.916667",
      "text/html": "<div>\n<style scoped>\n    .dataframe tbody tr th:only-of-type {\n        vertical-align: middle;\n    }\n\n    .dataframe tbody tr th {\n        vertical-align: top;\n    }\n\n    .dataframe thead th {\n        text-align: right;\n    }\n</style>\n<table border=\"1\" class=\"dataframe\">\n  <thead>\n    <tr style=\"text-align: right;\">\n      <th></th>\n      <th></th>\n      <th>avg_salary</th>\n    </tr>\n    <tr>\n      <th>SimpJob</th>\n      <th>Senior</th>\n      <th></th>\n    </tr>\n  </thead>\n  <tbody>\n    <tr>\n      <th rowspan=\"2\" valign=\"top\">Analyst</th>\n      <th>0</th>\n      <td>59.364407</td>\n    </tr>\n    <tr>\n      <th>1</th>\n      <td>92.444444</td>\n    </tr>\n    <tr>\n      <th rowspan=\"2\" valign=\"top\">Data Engineer</th>\n      <th>0</th>\n      <td>99.269608</td>\n    </tr>\n    <tr>\n      <th>1</th>\n      <td>120.457447</td>\n    </tr>\n    <tr>\n      <th rowspan=\"2\" valign=\"top\">Data Scientist</th>\n      <th>0</th>\n      <td>109.163306</td>\n    </tr>\n    <tr>\n      <th>1</th>\n      <td>139.050000</td>\n    </tr>\n    <tr>\n      <th rowspan=\"2\" valign=\"top\">Director</th>\n      <th>0</th>\n      <td>115.833333</td>\n    </tr>\n    <tr>\n      <th>1</th>\n      <td>118.500000</td>\n    </tr>\n    <tr>\n      <th rowspan=\"2\" valign=\"top\">Machine Learning Engineer</th>\n      <th>0</th>\n      <td>117.357143</td>\n    </tr>\n    <tr>\n      <th>1</th>\n      <td>120.250000</td>\n    </tr>\n    <tr>\n      <th rowspan=\"2\" valign=\"top\">Manager</th>\n      <th>0</th>\n      <td>110.366667</td>\n    </tr>\n    <tr>\n      <th>1</th>\n      <td>110.833333</td>\n    </tr>\n    <tr>\n      <th>Research Scientist</th>\n      <th>0</th>\n      <td>108.800000</td>\n    </tr>\n    <tr>\n      <th rowspan=\"2\" valign=\"top\">na</th>\n      <th>0</th>\n      <td>81.100000</td>\n    </tr>\n    <tr>\n      <th>1</th>\n      <td>103.916667</td>\n    </tr>\n  </tbody>\n</table>\n</div>"
     },
     "execution_count": 85,
     "metadata": {},
     "output_type": "execute_result"
    }
   ],
   "source": [
    "SimpJobSenior = pd.pivot_table(df, index=['SimpJob', 'Senior'], values='avg_salary')\n",
    "\n",
    "SimpJobSenior"
   ],
   "metadata": {
    "collapsed": false,
    "pycharm": {
     "name": "#%%\n"
    }
   }
  },
  {
   "cell_type": "code",
   "execution_count": 79,
   "outputs": [
    {
     "data": {
      "text/plain": "       avg_salary\nState            \nCA     129.445455\nMD     127.750000\nAZ     122.500000\nNJ     118.750000\nUT     116.833333\nMA     113.040000\nNY     110.283784\nMN     108.000000\nGA     107.000000\nFL     103.000000\nVA     102.485714\nNC     102.250000\nDC      99.388889\nWA      97.857143\nTX      95.884615\nMO      95.500000\nTN      95.500000\nMI      94.000000\nOH      93.642857\nWI      92.250000\nPA      85.000000\nIL      83.500000\nCO      80.166667\nAL      79.000000\nNE      79.000000\nHI      78.250000\nOR      73.000000\nWV      63.500000",
      "text/html": "<div>\n<style scoped>\n    .dataframe tbody tr th:only-of-type {\n        vertical-align: middle;\n    }\n\n    .dataframe tbody tr th {\n        vertical-align: top;\n    }\n\n    .dataframe thead th {\n        text-align: right;\n    }\n</style>\n<table border=\"1\" class=\"dataframe\">\n  <thead>\n    <tr style=\"text-align: right;\">\n      <th></th>\n      <th>avg_salary</th>\n    </tr>\n    <tr>\n      <th>State</th>\n      <th></th>\n    </tr>\n  </thead>\n  <tbody>\n    <tr>\n      <th>CA</th>\n      <td>129.445455</td>\n    </tr>\n    <tr>\n      <th>MD</th>\n      <td>127.750000</td>\n    </tr>\n    <tr>\n      <th>AZ</th>\n      <td>122.500000</td>\n    </tr>\n    <tr>\n      <th>NJ</th>\n      <td>118.750000</td>\n    </tr>\n    <tr>\n      <th>UT</th>\n      <td>116.833333</td>\n    </tr>\n    <tr>\n      <th>MA</th>\n      <td>113.040000</td>\n    </tr>\n    <tr>\n      <th>NY</th>\n      <td>110.283784</td>\n    </tr>\n    <tr>\n      <th>MN</th>\n      <td>108.000000</td>\n    </tr>\n    <tr>\n      <th>GA</th>\n      <td>107.000000</td>\n    </tr>\n    <tr>\n      <th>FL</th>\n      <td>103.000000</td>\n    </tr>\n    <tr>\n      <th>VA</th>\n      <td>102.485714</td>\n    </tr>\n    <tr>\n      <th>NC</th>\n      <td>102.250000</td>\n    </tr>\n    <tr>\n      <th>DC</th>\n      <td>99.388889</td>\n    </tr>\n    <tr>\n      <th>WA</th>\n      <td>97.857143</td>\n    </tr>\n    <tr>\n      <th>TX</th>\n      <td>95.884615</td>\n    </tr>\n    <tr>\n      <th>MO</th>\n      <td>95.500000</td>\n    </tr>\n    <tr>\n      <th>TN</th>\n      <td>95.500000</td>\n    </tr>\n    <tr>\n      <th>MI</th>\n      <td>94.000000</td>\n    </tr>\n    <tr>\n      <th>OH</th>\n      <td>93.642857</td>\n    </tr>\n    <tr>\n      <th>WI</th>\n      <td>92.250000</td>\n    </tr>\n    <tr>\n      <th>PA</th>\n      <td>85.000000</td>\n    </tr>\n    <tr>\n      <th>IL</th>\n      <td>83.500000</td>\n    </tr>\n    <tr>\n      <th>CO</th>\n      <td>80.166667</td>\n    </tr>\n    <tr>\n      <th>AL</th>\n      <td>79.000000</td>\n    </tr>\n    <tr>\n      <th>NE</th>\n      <td>79.000000</td>\n    </tr>\n    <tr>\n      <th>HI</th>\n      <td>78.250000</td>\n    </tr>\n    <tr>\n      <th>OR</th>\n      <td>73.000000</td>\n    </tr>\n    <tr>\n      <th>WV</th>\n      <td>63.500000</td>\n    </tr>\n  </tbody>\n</table>\n</div>"
     },
     "execution_count": 79,
     "metadata": {},
     "output_type": "execute_result"
    }
   ],
   "source": [
    "pd.pivot_table(df[(df['SimpJob'] =='Data Scientist') & (df['Senior'] ==0) ], index=['State'], values = 'avg_salary').sort_values('avg_salary', ascending=False)"
   ],
   "metadata": {
    "collapsed": false,
    "pycharm": {
     "name": "#%%\n"
    }
   }
  },
  {
   "cell_type": "code",
   "execution_count": 80,
   "outputs": [
    {
     "data": {
      "text/plain": "       avg_salary\nState            \nMA     105.888889\nCA      92.318182\nMN      74.500000\nAZ      71.500000\nWA      66.750000\nVA      66.666667\nPA      66.250000\nTX      66.083333\nNY      64.250000\nMD      59.500000\nFL      56.750000\nWI      56.111111\nSC      54.300000\nMI      54.000000\nCO      50.000000\nMO      49.500000\nRI      47.500000\nIN      47.500000\nUT      47.000000\nIA      43.000000",
      "text/html": "<div>\n<style scoped>\n    .dataframe tbody tr th:only-of-type {\n        vertical-align: middle;\n    }\n\n    .dataframe tbody tr th {\n        vertical-align: top;\n    }\n\n    .dataframe thead th {\n        text-align: right;\n    }\n</style>\n<table border=\"1\" class=\"dataframe\">\n  <thead>\n    <tr style=\"text-align: right;\">\n      <th></th>\n      <th>avg_salary</th>\n    </tr>\n    <tr>\n      <th>State</th>\n      <th></th>\n    </tr>\n  </thead>\n  <tbody>\n    <tr>\n      <th>MA</th>\n      <td>105.888889</td>\n    </tr>\n    <tr>\n      <th>CA</th>\n      <td>92.318182</td>\n    </tr>\n    <tr>\n      <th>MN</th>\n      <td>74.500000</td>\n    </tr>\n    <tr>\n      <th>AZ</th>\n      <td>71.500000</td>\n    </tr>\n    <tr>\n      <th>WA</th>\n      <td>66.750000</td>\n    </tr>\n    <tr>\n      <th>VA</th>\n      <td>66.666667</td>\n    </tr>\n    <tr>\n      <th>PA</th>\n      <td>66.250000</td>\n    </tr>\n    <tr>\n      <th>TX</th>\n      <td>66.083333</td>\n    </tr>\n    <tr>\n      <th>NY</th>\n      <td>64.250000</td>\n    </tr>\n    <tr>\n      <th>MD</th>\n      <td>59.500000</td>\n    </tr>\n    <tr>\n      <th>FL</th>\n      <td>56.750000</td>\n    </tr>\n    <tr>\n      <th>WI</th>\n      <td>56.111111</td>\n    </tr>\n    <tr>\n      <th>SC</th>\n      <td>54.300000</td>\n    </tr>\n    <tr>\n      <th>MI</th>\n      <td>54.000000</td>\n    </tr>\n    <tr>\n      <th>CO</th>\n      <td>50.000000</td>\n    </tr>\n    <tr>\n      <th>MO</th>\n      <td>49.500000</td>\n    </tr>\n    <tr>\n      <th>RI</th>\n      <td>47.500000</td>\n    </tr>\n    <tr>\n      <th>IN</th>\n      <td>47.500000</td>\n    </tr>\n    <tr>\n      <th>UT</th>\n      <td>47.000000</td>\n    </tr>\n    <tr>\n      <th>IA</th>\n      <td>43.000000</td>\n    </tr>\n  </tbody>\n</table>\n</div>"
     },
     "execution_count": 80,
     "metadata": {},
     "output_type": "execute_result"
    }
   ],
   "source": [
    "pd.pivot_table(df[df['SimpJob'] =='Analyst'], index=['State'], values = 'avg_salary').sort_values('avg_salary', ascending=False)\n"
   ],
   "metadata": {
    "collapsed": false,
    "pycharm": {
     "name": "#%%\n"
    }
   }
  },
  {
   "cell_type": "code",
   "execution_count": 81,
   "outputs": [
    {
     "data": {
      "text/plain": "Index(['Job Title', 'Salary Estimate', 'Job Description', 'Rating',\n       'Company Name', 'Location', 'Headquarters', 'Size', 'Founded',\n       'Type of ownership', 'Industry', 'Sector', 'Revenue', 'Competitors',\n       'CompanyName', 'hourly', 'employer_provided', 'min_salary',\n       'max_salary', 'avg_salary', 'State', 'agecompany', 'python', 'R',\n       'Excel', 'Senior', 'SimpJob', 'Junior', 'NumberComp'],\n      dtype='object')"
     },
     "execution_count": 81,
     "metadata": {},
     "output_type": "execute_result"
    }
   ],
   "source": [
    "df.columns"
   ],
   "metadata": {
    "collapsed": false,
    "pycharm": {
     "name": "#%%\n"
    }
   }
  },
  {
   "cell_type": "code",
   "execution_count": 82,
   "outputs": [
    {
     "name": "stdout",
     "output_type": "stream",
     "text": [
      "Rating\n",
      "        avg_salary\n",
      "Rating            \n",
      "-1.0    154.500000\n",
      " 4.5    116.071429\n",
      " 4.1    115.319444\n",
      " 5.0    115.192308\n",
      " 4.7    114.875000\n",
      " 3.8    112.525000\n",
      " 3.0    111.083333\n",
      " 2.7    108.642857\n",
      " 4.2    107.629630\n",
      " 4.3    107.294118\n",
      " 3.6    105.710526\n",
      " 4.4    105.209677\n",
      " 3.4    105.183673\n",
      " 2.8    103.227273\n",
      " 2.2    103.000000\n",
      " 2.6    102.700000\n",
      " 3.9    100.741071\n",
      " 2.5     97.750000\n",
      " 3.7     97.609756\n",
      " 4.8     95.555556\n",
      " 2.9     94.583333\n",
      " 4.0     94.391667\n",
      " 3.2     92.395833\n",
      " 3.5     90.915254\n",
      " 3.3     90.615385\n",
      " 3.1     90.294118\n",
      " 4.6     90.100000\n",
      " 2.3     87.500000\n",
      " 1.7     84.000000\n",
      " 4.9     74.666667\n",
      " 2.4     71.000000\n",
      "\n",
      "\n",
      "Sector\n",
      "                                    avg_salary\n",
      "Sector                                        \n",
      "Aerospace & Defense                 122.900000\n",
      "Consumer Services                   122.388889\n",
      "Education                           118.166667\n",
      "Information Technology              116.073171\n",
      "Media                               115.900000\n",
      "Biotech & Pharmaceuticals           108.093333\n",
      "Agriculture & Forestry              107.750000\n",
      "Oil, Gas, Energy & Utilities        106.875000\n",
      "Accounting & Legal                  105.750000\n",
      "-1                                  101.700000\n",
      "Insurance                           101.527778\n",
      "Business Services                    97.567797\n",
      "Finance                              97.273256\n",
      "Retail                               95.441176\n",
      "Telecommunications                   93.750000\n",
      "Government                           93.500000\n",
      "Transportation & Logistics           91.333333\n",
      "Travel & Tourism                     89.500000\n",
      "Construction, Repair & Maintenance   89.500000\n",
      "Manufacturing                        78.730769\n",
      "Health Care                          69.156863\n",
      "Real Estate                          69.000000\n",
      "Non-Profit                           68.250000\n",
      "\n",
      "\n",
      "Revenue\n",
      "                                  avg_salary\n",
      "Revenue                                     \n",
      "Less than $1 million (USD)        118.250000\n",
      "$10+ billion (USD)                115.340426\n",
      "Unknown / Non-Applicable          110.973094\n",
      "$25 to $50 million (USD)          106.725000\n",
      "$5 to $10 million (USD)           103.833333\n",
      "$10 to $25 million (USD)          101.891892\n",
      "$2 to $5 billion (USD)             97.605769\n",
      "$100 to $500 million (USD)         96.341912\n",
      "$50 to $100 million (USD)          95.845238\n",
      "$5 to $10 billion (USD)            91.086957\n",
      "$1 to $5 million (USD)             89.794118\n",
      "$1 to $2 billion (USD)             85.184211\n",
      "$500 million to $1 billion (USD)   83.575758\n",
      "\n",
      "\n",
      "NumberComp\n",
      "            avg_salary\n",
      "NumberComp            \n",
      "3           106.731132\n",
      "2           105.556818\n",
      "0           100.989022\n",
      "1            99.454545\n",
      "\n",
      "\n",
      "hourly\n",
      "        avg_salary\n",
      "hourly            \n",
      "0       105.105369\n",
      "1        28.586957\n",
      "\n",
      "\n",
      "employer_provided\n",
      "                   avg_salary\n",
      "employer_provided            \n",
      "1                  225.000000\n",
      "0                  102.494778\n",
      "\n",
      "\n",
      "Type of ownership\n",
      "                                avg_salary\n",
      "Type of ownership                         \n",
      "Unknown                         135.000000\n",
      "Subsidiary or Business Segment  112.352941\n",
      "College / University            106.700000\n",
      "Company - Private               105.636771\n",
      "Company - Public                103.660804\n",
      "Hospital                         92.000000\n",
      "Government                       90.071429\n",
      "Nonprofit Organization           80.295455\n",
      "Contract                         77.500000\n",
      "Self-employed                    71.500000\n",
      "Other Organization               60.000000\n",
      "\n",
      "\n",
      "python\n",
      "        avg_salary\n",
      "python            \n",
      "1       109.793241\n",
      "0        89.566038\n",
      "\n",
      "\n",
      "R\n",
      "   avg_salary\n",
      "R            \n",
      "0  102.814379\n",
      "1  102.666667\n",
      "\n",
      "\n",
      "Excel\n",
      "       avg_salary\n",
      "Excel            \n",
      "0       106.11509\n",
      "1        99.38992\n",
      "\n",
      "\n"
     ]
    }
   ],
   "source": [
    "pivots = df[['Rating', 'Sector', 'Revenue', 'NumberComp', 'hourly', 'employer_provided', 'Type of ownership', 'python', 'R', 'Excel','avg_salary']]\n",
    "#Rating, Sector, Revenue, NumberComp, hourly, employer_provided, python, R, Excel,\n",
    "for i in pivots.columns:\n",
    "    if i != 'avg_salary':\n",
    "        print(i)\n",
    "        print(pd.pivot_table(pivots, index=i, values='avg_salary').sort_values('avg_salary', ascending =False))\n",
    "        print('\\n')\n",
    "    else:\n",
    "        pass"
   ],
   "metadata": {
    "collapsed": false,
    "pycharm": {
     "name": "#%%\n"
    }
   }
  },
  {
   "cell_type": "code",
   "execution_count": 82,
   "outputs": [],
   "source": [
    "\n"
   ],
   "metadata": {
    "collapsed": false,
    "pycharm": {
     "name": "#%%\n"
    }
   }
  }
 ],
 "metadata": {
  "kernelspec": {
   "display_name": "Python 3",
   "language": "python",
   "name": "python3"
  },
  "language_info": {
   "codemirror_mode": {
    "name": "ipython",
    "version": 2
   },
   "file_extension": ".py",
   "mimetype": "text/x-python",
   "name": "python",
   "nbconvert_exporter": "python",
   "pygments_lexer": "ipython2",
   "version": "2.7.6"
  }
 },
 "nbformat": 4,
 "nbformat_minor": 0
}